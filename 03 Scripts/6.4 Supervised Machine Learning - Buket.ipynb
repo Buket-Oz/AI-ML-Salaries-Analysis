{
 "cells": [
  {
   "cell_type": "markdown",
   "id": "d28c5e57",
   "metadata": {},
   "source": [
    "# Notebook Content"
   ]
  },
  {
   "cell_type": "markdown",
   "id": "cd09e86f",
   "metadata": {},
   "source": [
    "    0. Importing Libraries\n",
    "    1. Data Cleaning\n",
    "    2. Creating a Subset of the Dataframe\n",
    "    3. Data Preperation for Regression Analysis\n",
    "    4. Regression Analysis for Experience Level\n",
    "    5. Regression Analysis for Experience Level (without the extreme values)\n",
    "  "
   ]
  },
  {
   "cell_type": "markdown",
   "id": "ae2618f8",
   "metadata": {},
   "source": [
    "# 0. Importing Libraries and Data"
   ]
  },
  {
   "cell_type": "code",
   "execution_count": 1,
   "id": "866d032e",
   "metadata": {
    "scrolled": true
   },
   "outputs": [],
   "source": [
    "import pandas as pd\n",
    "import numpy as np\n",
    "import seaborn as sns\n",
    "import matplotlib.pyplot as plt\n",
    "import matplotlib\n",
    "import os\n",
    "import sklearn\n",
    "from sklearn.model_selection import train_test_split  \n",
    "from sklearn.linear_model import LinearRegression     \n",
    "from sklearn.metrics import mean_squared_error, r2_score \n",
    "from sklearn.linear_model import LinearRegression"
   ]
  },
  {
   "cell_type": "code",
   "execution_count": 2,
   "id": "e238b723",
   "metadata": {
    "scrolled": true
   },
   "outputs": [],
   "source": [
    "# Ensure that the graphs are displayed within the notebook without the need to \"call\" them specifically.\n",
    "\n",
    "%matplotlib inline"
   ]
  },
  {
   "cell_type": "code",
   "execution_count": 3,
   "id": "8a191bf8",
   "metadata": {
    "scrolled": true
   },
   "outputs": [],
   "source": [
    "#Import Data\n",
    "df = pd.read_csv('/Users/buketoztekin/Documents/Cleaned_Salaries_Data.csv')"
   ]
  },
  {
   "cell_type": "code",
   "execution_count": 4,
   "id": "befabb3c",
   "metadata": {
    "scrolled": true
   },
   "outputs": [
    {
     "data": {
      "text/html": [
       "<div>\n",
       "<style scoped>\n",
       "    .dataframe tbody tr th:only-of-type {\n",
       "        vertical-align: middle;\n",
       "    }\n",
       "\n",
       "    .dataframe tbody tr th {\n",
       "        vertical-align: top;\n",
       "    }\n",
       "\n",
       "    .dataframe thead th {\n",
       "        text-align: right;\n",
       "    }\n",
       "</style>\n",
       "<table border=\"1\" class=\"dataframe\">\n",
       "  <thead>\n",
       "    <tr style=\"text-align: right;\">\n",
       "      <th></th>\n",
       "      <th>work_year</th>\n",
       "      <th>experience_level</th>\n",
       "      <th>employment_type</th>\n",
       "      <th>job_title</th>\n",
       "      <th>salary_in_usd</th>\n",
       "      <th>employee_residence</th>\n",
       "      <th>remote_ratio</th>\n",
       "      <th>company_location</th>\n",
       "      <th>company_size</th>\n",
       "    </tr>\n",
       "  </thead>\n",
       "  <tbody>\n",
       "    <tr>\n",
       "      <th>0</th>\n",
       "      <td>2024</td>\n",
       "      <td>MI</td>\n",
       "      <td>FT</td>\n",
       "      <td>Analytics Engineer</td>\n",
       "      <td>59615</td>\n",
       "      <td>CA</td>\n",
       "      <td>100</td>\n",
       "      <td>CA</td>\n",
       "      <td>S</td>\n",
       "    </tr>\n",
       "    <tr>\n",
       "      <th>1</th>\n",
       "      <td>2024</td>\n",
       "      <td>SE</td>\n",
       "      <td>FT</td>\n",
       "      <td>AI Developer</td>\n",
       "      <td>252000</td>\n",
       "      <td>US</td>\n",
       "      <td>0</td>\n",
       "      <td>US</td>\n",
       "      <td>M</td>\n",
       "    </tr>\n",
       "    <tr>\n",
       "      <th>2</th>\n",
       "      <td>2024</td>\n",
       "      <td>SE</td>\n",
       "      <td>FT</td>\n",
       "      <td>AI Developer</td>\n",
       "      <td>168000</td>\n",
       "      <td>US</td>\n",
       "      <td>0</td>\n",
       "      <td>US</td>\n",
       "      <td>M</td>\n",
       "    </tr>\n",
       "    <tr>\n",
       "      <th>3</th>\n",
       "      <td>2024</td>\n",
       "      <td>MI</td>\n",
       "      <td>FT</td>\n",
       "      <td>Data Scientist</td>\n",
       "      <td>199500</td>\n",
       "      <td>US</td>\n",
       "      <td>100</td>\n",
       "      <td>US</td>\n",
       "      <td>M</td>\n",
       "    </tr>\n",
       "    <tr>\n",
       "      <th>4</th>\n",
       "      <td>2024</td>\n",
       "      <td>MI</td>\n",
       "      <td>FT</td>\n",
       "      <td>Data Scientist</td>\n",
       "      <td>86700</td>\n",
       "      <td>US</td>\n",
       "      <td>100</td>\n",
       "      <td>US</td>\n",
       "      <td>M</td>\n",
       "    </tr>\n",
       "    <tr>\n",
       "      <th>...</th>\n",
       "      <td>...</td>\n",
       "      <td>...</td>\n",
       "      <td>...</td>\n",
       "      <td>...</td>\n",
       "      <td>...</td>\n",
       "      <td>...</td>\n",
       "      <td>...</td>\n",
       "      <td>...</td>\n",
       "      <td>...</td>\n",
       "    </tr>\n",
       "    <tr>\n",
       "      <th>10653</th>\n",
       "      <td>2020</td>\n",
       "      <td>SE</td>\n",
       "      <td>FT</td>\n",
       "      <td>Data Scientist</td>\n",
       "      <td>412000</td>\n",
       "      <td>US</td>\n",
       "      <td>100</td>\n",
       "      <td>US</td>\n",
       "      <td>L</td>\n",
       "    </tr>\n",
       "    <tr>\n",
       "      <th>10654</th>\n",
       "      <td>2021</td>\n",
       "      <td>MI</td>\n",
       "      <td>FT</td>\n",
       "      <td>Principal Data Scientist</td>\n",
       "      <td>151000</td>\n",
       "      <td>US</td>\n",
       "      <td>100</td>\n",
       "      <td>US</td>\n",
       "      <td>L</td>\n",
       "    </tr>\n",
       "    <tr>\n",
       "      <th>10655</th>\n",
       "      <td>2020</td>\n",
       "      <td>EN</td>\n",
       "      <td>FT</td>\n",
       "      <td>Data Scientist</td>\n",
       "      <td>105000</td>\n",
       "      <td>US</td>\n",
       "      <td>100</td>\n",
       "      <td>US</td>\n",
       "      <td>S</td>\n",
       "    </tr>\n",
       "    <tr>\n",
       "      <th>10656</th>\n",
       "      <td>2020</td>\n",
       "      <td>EN</td>\n",
       "      <td>CT</td>\n",
       "      <td>Business Data Analyst</td>\n",
       "      <td>100000</td>\n",
       "      <td>US</td>\n",
       "      <td>100</td>\n",
       "      <td>US</td>\n",
       "      <td>L</td>\n",
       "    </tr>\n",
       "    <tr>\n",
       "      <th>10657</th>\n",
       "      <td>2021</td>\n",
       "      <td>SE</td>\n",
       "      <td>FT</td>\n",
       "      <td>Data Scientist</td>\n",
       "      <td>94665</td>\n",
       "      <td>IN</td>\n",
       "      <td>50</td>\n",
       "      <td>IN</td>\n",
       "      <td>L</td>\n",
       "    </tr>\n",
       "  </tbody>\n",
       "</table>\n",
       "<p>10658 rows × 9 columns</p>\n",
       "</div>"
      ],
      "text/plain": [
       "       work_year experience_level employment_type                 job_title  \\\n",
       "0           2024               MI              FT        Analytics Engineer   \n",
       "1           2024               SE              FT              AI Developer   \n",
       "2           2024               SE              FT              AI Developer   \n",
       "3           2024               MI              FT            Data Scientist   \n",
       "4           2024               MI              FT            Data Scientist   \n",
       "...          ...              ...             ...                       ...   \n",
       "10653       2020               SE              FT            Data Scientist   \n",
       "10654       2021               MI              FT  Principal Data Scientist   \n",
       "10655       2020               EN              FT            Data Scientist   \n",
       "10656       2020               EN              CT     Business Data Analyst   \n",
       "10657       2021               SE              FT            Data Scientist   \n",
       "\n",
       "       salary_in_usd employee_residence  remote_ratio company_location  \\\n",
       "0              59615                 CA           100               CA   \n",
       "1             252000                 US             0               US   \n",
       "2             168000                 US             0               US   \n",
       "3             199500                 US           100               US   \n",
       "4              86700                 US           100               US   \n",
       "...              ...                ...           ...              ...   \n",
       "10653         412000                 US           100               US   \n",
       "10654         151000                 US           100               US   \n",
       "10655         105000                 US           100               US   \n",
       "10656         100000                 US           100               US   \n",
       "10657          94665                 IN            50               IN   \n",
       "\n",
       "      company_size  \n",
       "0                S  \n",
       "1                M  \n",
       "2                M  \n",
       "3                M  \n",
       "4                M  \n",
       "...            ...  \n",
       "10653            L  \n",
       "10654            L  \n",
       "10655            S  \n",
       "10656            L  \n",
       "10657            L  \n",
       "\n",
       "[10658 rows x 9 columns]"
      ]
     },
     "execution_count": 4,
     "metadata": {},
     "output_type": "execute_result"
    }
   ],
   "source": [
    "df"
   ]
  },
  {
   "cell_type": "markdown",
   "id": "750527e2",
   "metadata": {},
   "source": [
    "# 1. Data Cleaning"
   ]
  },
  {
   "cell_type": "code",
   "execution_count": 5,
   "id": "70828f36",
   "metadata": {
    "scrolled": true
   },
   "outputs": [
    {
     "name": "stdout",
     "output_type": "stream",
     "text": [
      "<class 'pandas.core.frame.DataFrame'>\n",
      "RangeIndex: 10658 entries, 0 to 10657\n",
      "Data columns (total 9 columns):\n",
      " #   Column              Non-Null Count  Dtype \n",
      "---  ------              --------------  ----- \n",
      " 0   work_year           10658 non-null  int64 \n",
      " 1   experience_level    10658 non-null  object\n",
      " 2   employment_type     10658 non-null  object\n",
      " 3   job_title           10658 non-null  object\n",
      " 4   salary_in_usd       10658 non-null  int64 \n",
      " 5   employee_residence  10658 non-null  object\n",
      " 6   remote_ratio        10658 non-null  int64 \n",
      " 7   company_location    10658 non-null  object\n",
      " 8   company_size        10658 non-null  object\n",
      "dtypes: int64(3), object(6)\n",
      "memory usage: 749.5+ KB\n"
     ]
    }
   ],
   "source": [
    "df.info()"
   ]
  },
  {
   "cell_type": "code",
   "execution_count": 6,
   "id": "bd0406f8",
   "metadata": {
    "scrolled": true
   },
   "outputs": [
    {
     "data": {
      "text/plain": [
       "work_year             0\n",
       "experience_level      0\n",
       "employment_type       0\n",
       "job_title             0\n",
       "salary_in_usd         0\n",
       "employee_residence    0\n",
       "remote_ratio          0\n",
       "company_location      0\n",
       "company_size          0\n",
       "dtype: int64"
      ]
     },
     "execution_count": 6,
     "metadata": {},
     "output_type": "execute_result"
    }
   ],
   "source": [
    "# Check for missing values\n",
    "\n",
    "df.isnull().sum()\n",
    "\n",
    "# No missing values to handle"
   ]
  },
  {
   "cell_type": "code",
   "execution_count": 7,
   "id": "45e1edec",
   "metadata": {
    "scrolled": true
   },
   "outputs": [],
   "source": [
    "dups = df.duplicated()"
   ]
  },
  {
   "cell_type": "code",
   "execution_count": 8,
   "id": "7f16f3f2",
   "metadata": {
    "scrolled": true
   },
   "outputs": [
    {
     "data": {
      "text/plain": [
       "(10658,)"
      ]
     },
     "execution_count": 8,
     "metadata": {},
     "output_type": "execute_result"
    }
   ],
   "source": [
    "dups.shape #No duplicates"
   ]
  },
  {
   "cell_type": "markdown",
   "id": "f95077a2",
   "metadata": {},
   "source": [
    "# 2. Creating a Subset of the Dataframe"
   ]
  },
  {
   "cell_type": "markdown",
   "id": "aa20663f",
   "metadata": {},
   "source": [
    "#### Since most of the data comes from the USA, and there are differences in salary expectations across countries, I will create a subset of the data for the USA and perform my analysis on that subset only."
   ]
  },
  {
   "cell_type": "markdown",
   "id": "d797b586",
   "metadata": {},
   "source": []
  },
  {
   "cell_type": "code",
   "execution_count": 9,
   "id": "9215a0f1",
   "metadata": {
    "scrolled": true
   },
   "outputs": [
    {
     "name": "stdout",
     "output_type": "stream",
     "text": [
      "   work_year experience_level employment_type          job_title  \\\n",
      "1       2024               SE              FT       AI Developer   \n",
      "2       2024               SE              FT       AI Developer   \n",
      "3       2024               MI              FT     Data Scientist   \n",
      "4       2024               MI              FT     Data Scientist   \n",
      "5       2024               SE              FT  Research Engineer   \n",
      "\n",
      "   salary_in_usd employee_residence  remote_ratio company_location  \\\n",
      "1         252000                 US             0               US   \n",
      "2         168000                 US             0               US   \n",
      "3         199500                 US           100               US   \n",
      "4          86700                 US           100               US   \n",
      "5         180000                 US             0               US   \n",
      "\n",
      "  company_size  \n",
      "1            M  \n",
      "2            M  \n",
      "3            M  \n",
      "4            M  \n",
      "5            S  \n"
     ]
    }
   ],
   "source": [
    "# Create a subset where company_location is 'United States'\n",
    "usa_subset = df[df['company_location'] == 'US']\n",
    "\n",
    "# Check the first few rows of the subset to ensure it worked\n",
    "print(usa_subset.head())"
   ]
  },
  {
   "cell_type": "code",
   "execution_count": 10,
   "id": "021c3237",
   "metadata": {
    "scrolled": true
   },
   "outputs": [
    {
     "name": "stdout",
     "output_type": "stream",
     "text": [
      "employment_type\n",
      "FT    8812\n",
      "PT      26\n",
      "CT      21\n",
      "FL       4\n",
      "Name: count, dtype: int64\n"
     ]
    }
   ],
   "source": [
    "# Check the value counts of 'employment_type' in the USA subset\n",
    "employment_type_counts = usa_subset['employment_type'].value_counts()\n",
    "\n",
    "# Display the result\n",
    "print(employment_type_counts)\n"
   ]
  },
  {
   "cell_type": "markdown",
   "id": "ae6fa8cd",
   "metadata": {},
   "source": [
    "#### Since the majority of the employment data (over 98%) in the USA subset represents Full-Time (FT) employees (8,812 out of 8,863 records), it makes sense to focus the analysis on this category. The other employment types (Part-Time, Contractor, and Freelancer) have significantly fewer records, making it difficult to draw meaningful conclusions from those groups. By creating a subset of Full-Time employees, we can ensure that the analysis is based on a large and representative sample."
   ]
  },
  {
   "cell_type": "code",
   "execution_count": 11,
   "id": "3ab1375e",
   "metadata": {
    "scrolled": true
   },
   "outputs": [
    {
     "name": "stdout",
     "output_type": "stream",
     "text": [
      "Number of Full-Time (FT) employees: 8812\n"
     ]
    },
    {
     "data": {
      "text/html": [
       "<div>\n",
       "<style scoped>\n",
       "    .dataframe tbody tr th:only-of-type {\n",
       "        vertical-align: middle;\n",
       "    }\n",
       "\n",
       "    .dataframe tbody tr th {\n",
       "        vertical-align: top;\n",
       "    }\n",
       "\n",
       "    .dataframe thead th {\n",
       "        text-align: right;\n",
       "    }\n",
       "</style>\n",
       "<table border=\"1\" class=\"dataframe\">\n",
       "  <thead>\n",
       "    <tr style=\"text-align: right;\">\n",
       "      <th></th>\n",
       "      <th>work_year</th>\n",
       "      <th>experience_level</th>\n",
       "      <th>employment_type</th>\n",
       "      <th>job_title</th>\n",
       "      <th>salary_in_usd</th>\n",
       "      <th>employee_residence</th>\n",
       "      <th>remote_ratio</th>\n",
       "      <th>company_location</th>\n",
       "      <th>company_size</th>\n",
       "    </tr>\n",
       "  </thead>\n",
       "  <tbody>\n",
       "    <tr>\n",
       "      <th>1</th>\n",
       "      <td>2024</td>\n",
       "      <td>SE</td>\n",
       "      <td>FT</td>\n",
       "      <td>AI Developer</td>\n",
       "      <td>252000</td>\n",
       "      <td>US</td>\n",
       "      <td>0</td>\n",
       "      <td>US</td>\n",
       "      <td>M</td>\n",
       "    </tr>\n",
       "    <tr>\n",
       "      <th>2</th>\n",
       "      <td>2024</td>\n",
       "      <td>SE</td>\n",
       "      <td>FT</td>\n",
       "      <td>AI Developer</td>\n",
       "      <td>168000</td>\n",
       "      <td>US</td>\n",
       "      <td>0</td>\n",
       "      <td>US</td>\n",
       "      <td>M</td>\n",
       "    </tr>\n",
       "    <tr>\n",
       "      <th>3</th>\n",
       "      <td>2024</td>\n",
       "      <td>MI</td>\n",
       "      <td>FT</td>\n",
       "      <td>Data Scientist</td>\n",
       "      <td>199500</td>\n",
       "      <td>US</td>\n",
       "      <td>100</td>\n",
       "      <td>US</td>\n",
       "      <td>M</td>\n",
       "    </tr>\n",
       "    <tr>\n",
       "      <th>4</th>\n",
       "      <td>2024</td>\n",
       "      <td>MI</td>\n",
       "      <td>FT</td>\n",
       "      <td>Data Scientist</td>\n",
       "      <td>86700</td>\n",
       "      <td>US</td>\n",
       "      <td>100</td>\n",
       "      <td>US</td>\n",
       "      <td>M</td>\n",
       "    </tr>\n",
       "    <tr>\n",
       "      <th>5</th>\n",
       "      <td>2024</td>\n",
       "      <td>SE</td>\n",
       "      <td>FT</td>\n",
       "      <td>Research Engineer</td>\n",
       "      <td>180000</td>\n",
       "      <td>US</td>\n",
       "      <td>0</td>\n",
       "      <td>US</td>\n",
       "      <td>S</td>\n",
       "    </tr>\n",
       "  </tbody>\n",
       "</table>\n",
       "</div>"
      ],
      "text/plain": [
       "   work_year experience_level employment_type          job_title  \\\n",
       "1       2024               SE              FT       AI Developer   \n",
       "2       2024               SE              FT       AI Developer   \n",
       "3       2024               MI              FT     Data Scientist   \n",
       "4       2024               MI              FT     Data Scientist   \n",
       "5       2024               SE              FT  Research Engineer   \n",
       "\n",
       "   salary_in_usd employee_residence  remote_ratio company_location  \\\n",
       "1         252000                 US             0               US   \n",
       "2         168000                 US             0               US   \n",
       "3         199500                 US           100               US   \n",
       "4          86700                 US           100               US   \n",
       "5         180000                 US             0               US   \n",
       "\n",
       "  company_size  \n",
       "1            M  \n",
       "2            M  \n",
       "3            M  \n",
       "4            M  \n",
       "5            S  "
      ]
     },
     "execution_count": 11,
     "metadata": {},
     "output_type": "execute_result"
    }
   ],
   "source": [
    "# Create a subset for Full-Time (FT) employees\n",
    "usa_ft_subset = usa_subset[usa_subset['employment_type'] == 'FT']\n",
    "\n",
    "# Check the size of the new subset\n",
    "print(\"Number of Full-Time (FT) employees:\", len(usa_ft_subset))\n",
    "\n",
    "# Display the first few rows of the subset to verify\n",
    "usa_ft_subset.head()"
   ]
  },
  {
   "cell_type": "code",
   "execution_count": 12,
   "id": "710300c1",
   "metadata": {
    "scrolled": true
   },
   "outputs": [
    {
     "name": "stderr",
     "output_type": "stream",
     "text": [
      "/var/folders/3_/dyc73j694fb41h6xln2l5_rc0000gn/T/ipykernel_32762/3985437733.py:1: UserWarning: \n",
      "\n",
      "`distplot` is a deprecated function and will be removed in seaborn v0.14.0.\n",
      "\n",
      "Please adapt your code to use either `displot` (a figure-level function with\n",
      "similar flexibility) or `histplot` (an axes-level function for histograms).\n",
      "\n",
      "For a guide to updating your code to use the new functions, please see\n",
      "https://gist.github.com/mwaskom/de44147ed2974457ad6372750bbe5751\n",
      "\n",
      "  sns.distplot(usa_ft_subset['salary_in_usd'], bins=25) # Shows extreme values\n",
      "/opt/anaconda3/lib/python3.11/site-packages/seaborn/_oldcore.py:1119: FutureWarning: use_inf_as_na option is deprecated and will be removed in a future version. Convert inf values to NaN before operating instead.\n",
      "  with pd.option_context('mode.use_inf_as_na', True):\n"
     ]
    },
    {
     "data": {
      "text/plain": [
       "<Axes: xlabel='salary_in_usd', ylabel='Density'>"
      ]
     },
     "execution_count": 12,
     "metadata": {},
     "output_type": "execute_result"
    },
    {
     "data": {
      "image/png": "[encoded data removed]",
      "text/plain": [
       "<Figure size 640x480 with 1 Axes>"
      ]
     },
     "metadata": {},
     "output_type": "display_data"
    }
   ],
   "source": [
    "sns.distplot(usa_ft_subset['salary_in_usd'], bins=25) # Shows extreme values"
   ]
  },
  {
   "cell_type": "markdown",
   "id": "10ca0b1a",
   "metadata": {},
   "source": [
    "#### Although there are some extreme values in the salary data, they will be retained for now to avoid altering the overall dataset."
   ]
  },
  {
   "cell_type": "code",
   "execution_count": 13,
   "id": "6b8413c2",
   "metadata": {
    "scrolled": false
   },
   "outputs": [
    {
     "data": {
      "text/plain": [
       "count      8812.000000\n",
       "mean     156672.383908\n",
       "std       66196.995714\n",
       "min       20000.000000\n",
       "25%      108737.500000\n",
       "50%      147800.000000\n",
       "75%      195000.000000\n",
       "max      600000.000000\n",
       "Name: salary_in_usd, dtype: float64"
      ]
     },
     "execution_count": 13,
     "metadata": {},
     "output_type": "execute_result"
    }
   ],
   "source": [
    "usa_ft_subset['salary_in_usd'].describe()"
   ]
  },
  {
   "cell_type": "code",
   "execution_count": null,
   "id": "54783c50",
   "metadata": {
    "scrolled": true
   },
   "outputs": [],
   "source": []
  },
  {
   "cell_type": "code",
   "execution_count": 14,
   "id": "91a53e9a",
   "metadata": {
    "scrolled": true
   },
   "outputs": [
    {
     "data": {
      "image/png": "[encoded data removed]",
      "text/plain": [
       "<Figure size 1000x600 with 1 Axes>"
      ]
     },
     "metadata": {},
     "output_type": "display_data"
    }
   ],
   "source": [
    "# Create the categorical plot\n",
    "plt.figure(figsize=(10, 6))\n",
    "sns.boxplot(x='experience_level', y='salary_in_usd', data=usa_ft_subset)\n",
    "\n",
    "# Add labels and title\n",
    "plt.title('Salary vs Experience Level (only full-time in the USA)')\n",
    "plt.xlabel('Experience Level')\n",
    "plt.ylabel('Salary in USD')\n",
    "plt.show()"
   ]
  },
  {
   "cell_type": "markdown",
   "id": "377f65d6",
   "metadata": {},
   "source": []
  },
  {
   "cell_type": "markdown",
   "id": "75d727a0",
   "metadata": {},
   "source": [
    "### Hypothesis: If the experience level is higher, the employee is more likely to have a higher salary"
   ]
  },
  {
   "cell_type": "markdown",
   "id": "2a20244d",
   "metadata": {},
   "source": []
  },
  {
   "cell_type": "markdown",
   "id": "e5ccae2c",
   "metadata": {},
   "source": [
    "# 3. Data preperation for regression analysis (experience level and salary)"
   ]
  },
  {
   "cell_type": "markdown",
   "id": "355cf90c",
   "metadata": {},
   "source": [
    "First, we need to map the experience_level column, as it is a categorical variable that must be converted to numerical values for analysis."
   ]
  },
  {
   "cell_type": "code",
   "execution_count": 15,
   "id": "206c674d",
   "metadata": {
    "scrolled": true
   },
   "outputs": [
    {
     "name": "stdout",
     "output_type": "stream",
     "text": [
      "['SE' 'MI' 'EX' 'EN']\n"
     ]
    }
   ],
   "source": [
    "# Check the unique values in the 'experience_level' column\n",
    "print(usa_ft_subset['experience_level'].unique())"
   ]
  },
  {
   "cell_type": "code",
   "execution_count": 16,
   "id": "e158d87a",
   "metadata": {
    "scrolled": true
   },
   "outputs": [
    {
     "name": "stdout",
     "output_type": "stream",
     "text": [
      "  experience_level  experience_level_encoded\n",
      "1               SE                         2\n",
      "2               SE                         2\n",
      "3               MI                         1\n",
      "4               MI                         1\n",
      "5               SE                         2\n"
     ]
    },
    {
     "name": "stderr",
     "output_type": "stream",
     "text": [
      "/var/folders/3_/dyc73j694fb41h6xln2l5_rc0000gn/T/ipykernel_32762/812926447.py:10: SettingWithCopyWarning: \n",
      "A value is trying to be set on a copy of a slice from a DataFrame.\n",
      "Try using .loc[row_indexer,col_indexer] = value instead\n",
      "\n",
      "See the caveats in the documentation: https://pandas.pydata.org/pandas-docs/stable/user_guide/indexing.html#returning-a-view-versus-a-copy\n",
      "  usa_ft_subset['experience_level_encoded'] = usa_ft_subset['experience_level'].map(experience_mapping)\n"
     ]
    }
   ],
   "source": [
    "# Map the experience levels to numerical values\n",
    "experience_mapping = {\n",
    "    'EN': 0,\n",
    "    'MI': 1,\n",
    "    'SE': 2,\n",
    "    'EX': 3\n",
    "}\n",
    "\n",
    "# Apply the mapping\n",
    "usa_ft_subset['experience_level_encoded'] = usa_ft_subset['experience_level'].map(experience_mapping)\n",
    "\n",
    "# Check the result\n",
    "print(usa_ft_subset[['experience_level', 'experience_level_encoded']].head())"
   ]
  },
  {
   "cell_type": "code",
   "execution_count": 17,
   "id": "cd783043",
   "metadata": {
    "scrolled": true
   },
   "outputs": [],
   "source": [
    "# Reshape the variables into NumPy arrays and put them into separate objects.\n",
    "\n",
    "X_experience = usa_ft_subset['experience_level_encoded'].values.reshape(-1,1)\n",
    "y_salary = usa_ft_subset['salary_in_usd'].values.reshape(-1,1)"
   ]
  },
  {
   "cell_type": "code",
   "execution_count": 18,
   "id": "0719d13f",
   "metadata": {
    "scrolled": true
   },
   "outputs": [
    {
     "data": {
      "text/plain": [
       "array([[2],\n",
       "       [2],\n",
       "       [1],\n",
       "       ...,\n",
       "       [2],\n",
       "       [1],\n",
       "       [0]])"
      ]
     },
     "execution_count": 18,
     "metadata": {},
     "output_type": "execute_result"
    }
   ],
   "source": [
    "X_experience"
   ]
  },
  {
   "cell_type": "code",
   "execution_count": 19,
   "id": "9c5a7f96",
   "metadata": {
    "scrolled": true
   },
   "outputs": [
    {
     "data": {
      "text/plain": [
       "array([[252000],\n",
       "       [168000],\n",
       "       [199500],\n",
       "       ...,\n",
       "       [412000],\n",
       "       [151000],\n",
       "       [105000]])"
      ]
     },
     "execution_count": 19,
     "metadata": {},
     "output_type": "execute_result"
    }
   ],
   "source": [
    "y_salary"
   ]
  },
  {
   "cell_type": "code",
   "execution_count": 20,
   "id": "ea81cecd",
   "metadata": {
    "scrolled": true
   },
   "outputs": [
    {
     "name": "stdout",
     "output_type": "stream",
     "text": [
      "(6168, 1) (2644, 1)\n"
     ]
    }
   ],
   "source": [
    "# Split data for Experience Level vs Salary\n",
    "X_experience_train, X_experience_test, y_salary_train, y_salary_test = train_test_split(\n",
    "    X_experience, y_salary, test_size=0.3, random_state=0)\n",
    "\n",
    "# Check the shape of the splits\n",
    "print(X_experience_train.shape, X_experience_test.shape)"
   ]
  },
  {
   "cell_type": "markdown",
   "id": "70c87c27",
   "metadata": {},
   "source": [
    "# 4. Regression Analysis for Experience Level"
   ]
  },
  {
   "cell_type": "code",
   "execution_count": 21,
   "id": "8b7ed7d7",
   "metadata": {
    "scrolled": true
   },
   "outputs": [],
   "source": [
    "# Create a regression object.\n",
    "\n",
    "regression = LinearRegression()"
   ]
  },
  {
   "cell_type": "code",
   "execution_count": 22,
   "id": "3106691e",
   "metadata": {
    "scrolled": true
   },
   "outputs": [
    {
     "data": {
      "text/html": [
       "<style>#sk-container-id-1 {color: black;background-color: white;}#sk-container-id-1 pre{padding: 0;}#sk-container-id-1 div.sk-toggleable {background-color: white;}#sk-container-id-1 label.sk-toggleable__label {cursor: pointer;display: block;width: 100%;margin-bottom: 0;padding: 0.3em;box-sizing: border-box;text-align: center;}#sk-container-id-1 label.sk-toggleable__label-arrow:before {content: \"▸\";float: left;margin-right: 0.25em;color: #696969;}#sk-container-id-1 label.sk-toggleable__label-arrow:hover:before {color: black;}#sk-container-id-1 div.sk-estimator:hover label.sk-toggleable__label-arrow:before {color: black;}#sk-container-id-1 div.sk-toggleable__content {max-height: 0;max-width: 0;overflow: hidden;text-align: left;background-color: #f0f8ff;}#sk-container-id-1 div.sk-toggleable__content pre {margin: 0.2em;color: black;border-radius: 0.25em;background-color: #f0f8ff;}#sk-container-id-1 input.sk-toggleable__control:checked~div.sk-toggleable__content {max-height: 200px;max-width: 100%;overflow: auto;}#sk-container-id-1 input.sk-toggleable__control:checked~label.sk-toggleable__label-arrow:before {content: \"▾\";}#sk-container-id-1 div.sk-estimator input.sk-toggleable__control:checked~label.sk-toggleable__label {background-color: #d4ebff;}#sk-container-id-1 div.sk-label input.sk-toggleable__control:checked~label.sk-toggleable__label {background-color: #d4ebff;}#sk-container-id-1 input.sk-hidden--visually {border: 0;clip: rect(1px 1px 1px 1px);clip: rect(1px, 1px, 1px, 1px);height: 1px;margin: -1px;overflow: hidden;padding: 0;position: absolute;width: 1px;}#sk-container-id-1 div.sk-estimator {font-family: monospace;background-color: #f0f8ff;border: 1px dotted black;border-radius: 0.25em;box-sizing: border-box;margin-bottom: 0.5em;}#sk-container-id-1 div.sk-estimator:hover {background-color: #d4ebff;}#sk-container-id-1 div.sk-parallel-item::after {content: \"\";width: 100%;border-bottom: 1px solid gray;flex-grow: 1;}#sk-container-id-1 div.sk-label:hover label.sk-toggleable__label {background-color: #d4ebff;}#sk-container-id-1 div.sk-serial::before {content: \"\";position: absolute;border-left: 1px solid gray;box-sizing: border-box;top: 0;bottom: 0;left: 50%;z-index: 0;}#sk-container-id-1 div.sk-serial {display: flex;flex-direction: column;align-items: center;background-color: white;padding-right: 0.2em;padding-left: 0.2em;position: relative;}#sk-container-id-1 div.sk-item {position: relative;z-index: 1;}#sk-container-id-1 div.sk-parallel {display: flex;align-items: stretch;justify-content: center;background-color: white;position: relative;}#sk-container-id-1 div.sk-item::before, #sk-container-id-1 div.sk-parallel-item::before {content: \"\";position: absolute;border-left: 1px solid gray;box-sizing: border-box;top: 0;bottom: 0;left: 50%;z-index: -1;}#sk-container-id-1 div.sk-parallel-item {display: flex;flex-direction: column;z-index: 1;position: relative;background-color: white;}#sk-container-id-1 div.sk-parallel-item:first-child::after {align-self: flex-end;width: 50%;}#sk-container-id-1 div.sk-parallel-item:last-child::after {align-self: flex-start;width: 50%;}#sk-container-id-1 div.sk-parallel-item:only-child::after {width: 0;}#sk-container-id-1 div.sk-dashed-wrapped {border: 1px dashed gray;margin: 0 0.4em 0.5em 0.4em;box-sizing: border-box;padding-bottom: 0.4em;background-color: white;}#sk-container-id-1 div.sk-label label {font-family: monospace;font-weight: bold;display: inline-block;line-height: 1.2em;}#sk-container-id-1 div.sk-label-container {text-align: center;}#sk-container-id-1 div.sk-container {/* jupyter's `normalize.less` sets `[hidden] { display: none; }` but bootstrap.min.css set `[hidden] { display: none !important; }` so we also need the `!important` here to be able to override the default hidden behavior on the sphinx rendered scikit-learn.org. See: https://github.com/scikit-learn/scikit-learn/issues/21755 */display: inline-block !important;position: relative;}#sk-container-id-1 div.sk-text-repr-fallback {display: none;}</style><div id=\"sk-container-id-1\" class=\"sk-top-container\"><div class=\"sk-text-repr-fallback\"><pre>LinearRegression()</pre><b>In a Jupyter environment, please rerun this cell to show the HTML representation or trust the notebook. <br />On GitHub, the HTML representation is unable to render, please try loading this page with nbviewer.org.</b></div><div class=\"sk-container\" hidden><div class=\"sk-item\"><div class=\"sk-estimator sk-toggleable\"><input class=\"sk-toggleable__control sk-hidden--visually\" id=\"sk-estimator-id-1\" type=\"checkbox\" checked><label for=\"sk-estimator-id-1\" class=\"sk-toggleable__label sk-toggleable__label-arrow\">LinearRegression</label><div class=\"sk-toggleable__content\"><pre>LinearRegression()</pre></div></div></div></div></div>"
      ],
      "text/plain": [
       "LinearRegression()"
      ]
     },
     "execution_count": 22,
     "metadata": {},
     "output_type": "execute_result"
    }
   ],
   "source": [
    "# Fit the regression object onto the training set.\n",
    "\n",
    "regression.fit(X_experience_train, y_salary_train)"
   ]
  },
  {
   "cell_type": "code",
   "execution_count": 23,
   "id": "c2bd5f48",
   "metadata": {
    "scrolled": true
   },
   "outputs": [],
   "source": [
    "# Predict the values of y using X.\n",
    "\n",
    "y_salary_predicted = regression.predict(X_experience_test)"
   ]
  },
  {
   "cell_type": "code",
   "execution_count": 24,
   "id": "de3b4ab9",
   "metadata": {
    "scrolled": true
   },
   "outputs": [
    {
     "data": {
      "image/png": "[encoded data removed]",
      "text/plain": [
       "<Figure size 640x480 with 1 Axes>"
      ]
     },
     "metadata": {},
     "output_type": "display_data"
    }
   ],
   "source": [
    "# Create a plot that shows the regression line from the model on the test set.\n",
    "\n",
    "plot_test = plt\n",
    "plot_test.scatter(X_experience_test, y_salary_test, color='gray', s = 15)\n",
    "plot_test.plot(X_experience_test, y_salary_predicted, color='red', linewidth =3)\n",
    "plot_test.title('Experience Level vs Salary (Test set)')\n",
    "plot_test.xlabel('experience_level_encoded')\n",
    "plot_test.ylabel('salary_in_usd')\n",
    "plot_test.show()"
   ]
  },
  {
   "cell_type": "code",
   "execution_count": 25,
   "id": "1600cea7",
   "metadata": {
    "scrolled": true
   },
   "outputs": [],
   "source": [
    "# Create objects that contain the model summary statistics.\n",
    "\n",
    "rmse = mean_squared_error(y_salary_test, y_salary_predicted) # This is the mean squared error\n",
    "r2 = r2_score(y_salary_test, y_salary_predicted) # This is the R2 score. "
   ]
  },
  {
   "cell_type": "code",
   "execution_count": 26,
   "id": "7371981c",
   "metadata": {
    "scrolled": true
   },
   "outputs": [
    {
     "name": "stdout",
     "output_type": "stream",
     "text": [
      "Slope: [[33361.43225291]]\n",
      "Mean squared error:  3848689403.949996\n",
      "R2 score:  0.11961032795968984\n"
     ]
    }
   ],
   "source": [
    "# Print the model summary statistics. This is where you evaluate the performance of the model.\n",
    "\n",
    "print('Slope:' ,regression.coef_)\n",
    "print('Mean squared error: ', rmse)\n",
    "print('R2 score: ', r2)"
   ]
  },
  {
   "cell_type": "markdown",
   "id": "6e81199d",
   "metadata": {},
   "source": [
    "The slope shows that higher experience levels are associated with higher salaries, with each level increasing salary by about $33,361.\n",
    "\n",
    "The MSE suggests there's a noticeable error in the predictions, and the low R² score indicates that experience level alone explains only a small portion (11%) of salary variation."
   ]
  },
  {
   "cell_type": "markdown",
   "id": "ada539ea",
   "metadata": {},
   "source": []
  },
  {
   "cell_type": "markdown",
   "id": "1e5d1db6",
   "metadata": {},
   "source": [
    "# 5. Regression Analysis without the Extreme Values"
   ]
  },
  {
   "cell_type": "markdown",
   "id": "75ec6879",
   "metadata": {},
   "source": [
    "Let's see if the model is going to improve after removing the extreme salary values."
   ]
  },
  {
   "cell_type": "markdown",
   "id": "8aa47b96",
   "metadata": {},
   "source": [
    "### Removing the extreme salary values"
   ]
  },
  {
   "cell_type": "code",
   "execution_count": 27,
   "id": "cc4453b9",
   "metadata": {
    "scrolled": true
   },
   "outputs": [
    {
     "name": "stdout",
     "output_type": "stream",
     "text": [
      "Upper Threshold (mean + 2*std): 289066.375336\n",
      "Lower Threshold (mean - 2*std): 24278.39247999998\n"
     ]
    }
   ],
   "source": [
    "# Given values\n",
    "mean_salary = 156672.383908\n",
    "std_salary = 66196.995714\n",
    "\n",
    "# Define the threshold for extreme values (mean ± 2 * standard deviation)\n",
    "upper_threshold = mean_salary + 2 * std_salary\n",
    "lower_threshold = mean_salary - 2 * std_salary\n",
    "\n",
    "print(\"Upper Threshold (mean + 2*std):\", upper_threshold)\n",
    "print(\"Lower Threshold (mean - 2*std):\", lower_threshold)\n"
   ]
  },
  {
   "cell_type": "code",
   "execution_count": 28,
   "id": "6384a259",
   "metadata": {
    "scrolled": true
   },
   "outputs": [
    {
     "name": "stdout",
     "output_type": "stream",
     "text": [
      "Original Size: 8812\n",
      "Cleaned Size: 8482\n"
     ]
    }
   ],
   "source": [
    "# Remove the extreme salary values based on the thresholds\n",
    "usa_ft_subset_filtered = usa_ft_subset[(usa_ft_subset['salary_in_usd'] <= 289066.375336) & \n",
    "                                (usa_ft_subset['salary_in_usd'] >= 24278.39247999998)]\n",
    "\n",
    "# Check the size of the cleaned dataset\n",
    "print(\"Original Size:\", len(usa_ft_subset))\n",
    "print(\"Cleaned Size:\", len(usa_ft_subset_filtered))"
   ]
  },
  {
   "cell_type": "code",
   "execution_count": 29,
   "id": "7ed303e0",
   "metadata": {
    "scrolled": false
   },
   "outputs": [
    {
     "name": "stderr",
     "output_type": "stream",
     "text": [
      "/var/folders/3_/dyc73j694fb41h6xln2l5_rc0000gn/T/ipykernel_32762/1803589316.py:1: UserWarning: \n",
      "\n",
      "`distplot` is a deprecated function and will be removed in seaborn v0.14.0.\n",
      "\n",
      "Please adapt your code to use either `displot` (a figure-level function with\n",
      "similar flexibility) or `histplot` (an axes-level function for histograms).\n",
      "\n",
      "For a guide to updating your code to use the new functions, please see\n",
      "https://gist.github.com/mwaskom/de44147ed2974457ad6372750bbe5751\n",
      "\n",
      "  sns.distplot(usa_ft_subset_filtered['salary_in_usd'], bins=25)\n",
      "/opt/anaconda3/lib/python3.11/site-packages/seaborn/_oldcore.py:1119: FutureWarning: use_inf_as_na option is deprecated and will be removed in a future version. Convert inf values to NaN before operating instead.\n",
      "  with pd.option_context('mode.use_inf_as_na', True):\n"
     ]
    },
    {
     "data": {
      "text/plain": [
       "<Axes: xlabel='salary_in_usd', ylabel='Density'>"
      ]
     },
     "execution_count": 29,
     "metadata": {},
     "output_type": "execute_result"
    },
    {
     "data": {
      "image/png": "[encoded data removed]",
      "text/plain": [
       "<Figure size 640x480 with 1 Axes>"
      ]
     },
     "metadata": {},
     "output_type": "display_data"
    }
   ],
   "source": [
    "sns.distplot(usa_ft_subset_filtered['salary_in_usd'], bins=25)"
   ]
  },
  {
   "cell_type": "code",
   "execution_count": 30,
   "id": "2ae0a1a5",
   "metadata": {
    "scrolled": true
   },
   "outputs": [
    {
     "data": {
      "image/png": "[encoded data removed]",
      "text/plain": [
       "<Figure size 1000x600 with 1 Axes>"
      ]
     },
     "metadata": {},
     "output_type": "display_data"
    }
   ],
   "source": [
    "# Create the categorical plot\n",
    "plt.figure(figsize=(10, 6))\n",
    "sns.boxplot(x='experience_level', y='salary_in_usd', data=usa_ft_subset_filtered)\n",
    "\n",
    "# Add labels and title\n",
    "plt.title('Salary vs Experience Level (only full-time in the USA)')\n",
    "plt.xlabel('Experience Level')\n",
    "plt.ylabel('Salary in USD')\n",
    "plt.show()"
   ]
  },
  {
   "cell_type": "markdown",
   "id": "7036829a",
   "metadata": {},
   "source": [
    "#### Salaries are normally distributed without the extreme values"
   ]
  },
  {
   "cell_type": "code",
   "execution_count": 31,
   "id": "ee683bcc",
   "metadata": {
    "scrolled": true
   },
   "outputs": [
    {
     "name": "stdout",
     "output_type": "stream",
     "text": [
      "  experience_level  experience_level_encoded\n",
      "1               SE                         2\n",
      "2               SE                         2\n",
      "3               MI                         1\n",
      "4               MI                         1\n",
      "5               SE                         2\n"
     ]
    },
    {
     "name": "stderr",
     "output_type": "stream",
     "text": [
      "/var/folders/3_/dyc73j694fb41h6xln2l5_rc0000gn/T/ipykernel_32762/3804635757.py:10: SettingWithCopyWarning: \n",
      "A value is trying to be set on a copy of a slice from a DataFrame.\n",
      "Try using .loc[row_indexer,col_indexer] = value instead\n",
      "\n",
      "See the caveats in the documentation: https://pandas.pydata.org/pandas-docs/stable/user_guide/indexing.html#returning-a-view-versus-a-copy\n",
      "  usa_ft_subset_filtered['experience_level_encoded'] = usa_ft_subset_filtered['experience_level'].map(experience_mapping)\n"
     ]
    }
   ],
   "source": [
    "# Map the experience levels to numerical values\n",
    "experience_mapping = {\n",
    "    'EN': 0,\n",
    "    'MI': 1,\n",
    "    'SE': 2,\n",
    "    'EX': 3\n",
    "}\n",
    "\n",
    "# Apply the mapping\n",
    "usa_ft_subset_filtered['experience_level_encoded'] = usa_ft_subset_filtered['experience_level'].map(experience_mapping)\n",
    "\n",
    "# Check the result\n",
    "print(usa_ft_subset_filtered[['experience_level', 'experience_level_encoded']].head())"
   ]
  },
  {
   "cell_type": "code",
   "execution_count": 32,
   "id": "431d2711",
   "metadata": {
    "scrolled": true
   },
   "outputs": [
    {
     "data": {
      "text/plain": [
       "(8482, 10)"
      ]
     },
     "execution_count": 32,
     "metadata": {},
     "output_type": "execute_result"
    }
   ],
   "source": [
    "usa_ft_subset_filtered.shape"
   ]
  },
  {
   "cell_type": "code",
   "execution_count": 33,
   "id": "a85736a5",
   "metadata": {
    "scrolled": true
   },
   "outputs": [
    {
     "data": {
      "text/html": [
       "<div>\n",
       "<style scoped>\n",
       "    .dataframe tbody tr th:only-of-type {\n",
       "        vertical-align: middle;\n",
       "    }\n",
       "\n",
       "    .dataframe tbody tr th {\n",
       "        vertical-align: top;\n",
       "    }\n",
       "\n",
       "    .dataframe thead th {\n",
       "        text-align: right;\n",
       "    }\n",
       "</style>\n",
       "<table border=\"1\" class=\"dataframe\">\n",
       "  <thead>\n",
       "    <tr style=\"text-align: right;\">\n",
       "      <th></th>\n",
       "      <th>work_year</th>\n",
       "      <th>experience_level</th>\n",
       "      <th>employment_type</th>\n",
       "      <th>job_title</th>\n",
       "      <th>salary_in_usd</th>\n",
       "      <th>employee_residence</th>\n",
       "      <th>remote_ratio</th>\n",
       "      <th>company_location</th>\n",
       "      <th>company_size</th>\n",
       "      <th>experience_level_encoded</th>\n",
       "    </tr>\n",
       "  </thead>\n",
       "  <tbody>\n",
       "    <tr>\n",
       "      <th>1</th>\n",
       "      <td>2024</td>\n",
       "      <td>SE</td>\n",
       "      <td>FT</td>\n",
       "      <td>AI Developer</td>\n",
       "      <td>252000</td>\n",
       "      <td>US</td>\n",
       "      <td>0</td>\n",
       "      <td>US</td>\n",
       "      <td>M</td>\n",
       "      <td>2</td>\n",
       "    </tr>\n",
       "    <tr>\n",
       "      <th>2</th>\n",
       "      <td>2024</td>\n",
       "      <td>SE</td>\n",
       "      <td>FT</td>\n",
       "      <td>AI Developer</td>\n",
       "      <td>168000</td>\n",
       "      <td>US</td>\n",
       "      <td>0</td>\n",
       "      <td>US</td>\n",
       "      <td>M</td>\n",
       "      <td>2</td>\n",
       "    </tr>\n",
       "    <tr>\n",
       "      <th>3</th>\n",
       "      <td>2024</td>\n",
       "      <td>MI</td>\n",
       "      <td>FT</td>\n",
       "      <td>Data Scientist</td>\n",
       "      <td>199500</td>\n",
       "      <td>US</td>\n",
       "      <td>100</td>\n",
       "      <td>US</td>\n",
       "      <td>M</td>\n",
       "      <td>1</td>\n",
       "    </tr>\n",
       "    <tr>\n",
       "      <th>4</th>\n",
       "      <td>2024</td>\n",
       "      <td>MI</td>\n",
       "      <td>FT</td>\n",
       "      <td>Data Scientist</td>\n",
       "      <td>86700</td>\n",
       "      <td>US</td>\n",
       "      <td>100</td>\n",
       "      <td>US</td>\n",
       "      <td>M</td>\n",
       "      <td>1</td>\n",
       "    </tr>\n",
       "    <tr>\n",
       "      <th>5</th>\n",
       "      <td>2024</td>\n",
       "      <td>SE</td>\n",
       "      <td>FT</td>\n",
       "      <td>Research Engineer</td>\n",
       "      <td>180000</td>\n",
       "      <td>US</td>\n",
       "      <td>0</td>\n",
       "      <td>US</td>\n",
       "      <td>S</td>\n",
       "      <td>2</td>\n",
       "    </tr>\n",
       "  </tbody>\n",
       "</table>\n",
       "</div>"
      ],
      "text/plain": [
       "   work_year experience_level employment_type          job_title  \\\n",
       "1       2024               SE              FT       AI Developer   \n",
       "2       2024               SE              FT       AI Developer   \n",
       "3       2024               MI              FT     Data Scientist   \n",
       "4       2024               MI              FT     Data Scientist   \n",
       "5       2024               SE              FT  Research Engineer   \n",
       "\n",
       "   salary_in_usd employee_residence  remote_ratio company_location  \\\n",
       "1         252000                 US             0               US   \n",
       "2         168000                 US             0               US   \n",
       "3         199500                 US           100               US   \n",
       "4          86700                 US           100               US   \n",
       "5         180000                 US             0               US   \n",
       "\n",
       "  company_size  experience_level_encoded  \n",
       "1            M                         2  \n",
       "2            M                         2  \n",
       "3            M                         1  \n",
       "4            M                         1  \n",
       "5            S                         2  "
      ]
     },
     "execution_count": 33,
     "metadata": {},
     "output_type": "execute_result"
    }
   ],
   "source": [
    "usa_ft_subset_filtered.head()"
   ]
  },
  {
   "cell_type": "markdown",
   "id": "3093851d",
   "metadata": {},
   "source": [
    "## Preparing the data for regression analysis (without extreme values)"
   ]
  },
  {
   "cell_type": "code",
   "execution_count": 34,
   "id": "68259b45",
   "metadata": {
    "scrolled": true
   },
   "outputs": [],
   "source": [
    "# Reshape the variables into NumPy arrays and put them into separate objects.\n",
    "\n",
    "X_experience2 = usa_ft_subset_filtered['experience_level_encoded'].values.reshape(-1,1)\n",
    "y_salary2 = usa_ft_subset_filtered['salary_in_usd'].values.reshape(-1,1)"
   ]
  },
  {
   "cell_type": "code",
   "execution_count": 35,
   "id": "c8a30f21",
   "metadata": {
    "scrolled": true
   },
   "outputs": [
    {
     "name": "stdout",
     "output_type": "stream",
     "text": [
      "(5937, 1) (2545, 1)\n"
     ]
    }
   ],
   "source": [
    "# Split data for Experience Level vs Salary\n",
    "X_experience2_train, X_experience2_test, y_salary2_train, y_salary2_test = train_test_split(\n",
    "    X_experience2, y_salary2, test_size=0.3, random_state=0)\n",
    "\n",
    "# Check the shape of the splits\n",
    "print(X_experience2_train.shape, X_experience2_test.shape)"
   ]
  },
  {
   "cell_type": "code",
   "execution_count": 36,
   "id": "332512f0",
   "metadata": {
    "scrolled": true
   },
   "outputs": [],
   "source": [
    "# Create a regression object.\n",
    "\n",
    "regression = LinearRegression()"
   ]
  },
  {
   "cell_type": "code",
   "execution_count": 37,
   "id": "0eab5f39",
   "metadata": {
    "scrolled": true
   },
   "outputs": [
    {
     "data": {
      "text/html": [
       "<style>#sk-container-id-2 {color: black;background-color: white;}#sk-container-id-2 pre{padding: 0;}#sk-container-id-2 div.sk-toggleable {background-color: white;}#sk-container-id-2 label.sk-toggleable__label {cursor: pointer;display: block;width: 100%;margin-bottom: 0;padding: 0.3em;box-sizing: border-box;text-align: center;}#sk-container-id-2 label.sk-toggleable__label-arrow:before {content: \"▸\";float: left;margin-right: 0.25em;color: #696969;}#sk-container-id-2 label.sk-toggleable__label-arrow:hover:before {color: black;}#sk-container-id-2 div.sk-estimator:hover label.sk-toggleable__label-arrow:before {color: black;}#sk-container-id-2 div.sk-toggleable__content {max-height: 0;max-width: 0;overflow: hidden;text-align: left;background-color: #f0f8ff;}#sk-container-id-2 div.sk-toggleable__content pre {margin: 0.2em;color: black;border-radius: 0.25em;background-color: #f0f8ff;}#sk-container-id-2 input.sk-toggleable__control:checked~div.sk-toggleable__content {max-height: 200px;max-width: 100%;overflow: auto;}#sk-container-id-2 input.sk-toggleable__control:checked~label.sk-toggleable__label-arrow:before {content: \"▾\";}#sk-container-id-2 div.sk-estimator input.sk-toggleable__control:checked~label.sk-toggleable__label {background-color: #d4ebff;}#sk-container-id-2 div.sk-label input.sk-toggleable__control:checked~label.sk-toggleable__label {background-color: #d4ebff;}#sk-container-id-2 input.sk-hidden--visually {border: 0;clip: rect(1px 1px 1px 1px);clip: rect(1px, 1px, 1px, 1px);height: 1px;margin: -1px;overflow: hidden;padding: 0;position: absolute;width: 1px;}#sk-container-id-2 div.sk-estimator {font-family: monospace;background-color: #f0f8ff;border: 1px dotted black;border-radius: 0.25em;box-sizing: border-box;margin-bottom: 0.5em;}#sk-container-id-2 div.sk-estimator:hover {background-color: #d4ebff;}#sk-container-id-2 div.sk-parallel-item::after {content: \"\";width: 100%;border-bottom: 1px solid gray;flex-grow: 1;}#sk-container-id-2 div.sk-label:hover label.sk-toggleable__label {background-color: #d4ebff;}#sk-container-id-2 div.sk-serial::before {content: \"\";position: absolute;border-left: 1px solid gray;box-sizing: border-box;top: 0;bottom: 0;left: 50%;z-index: 0;}#sk-container-id-2 div.sk-serial {display: flex;flex-direction: column;align-items: center;background-color: white;padding-right: 0.2em;padding-left: 0.2em;position: relative;}#sk-container-id-2 div.sk-item {position: relative;z-index: 1;}#sk-container-id-2 div.sk-parallel {display: flex;align-items: stretch;justify-content: center;background-color: white;position: relative;}#sk-container-id-2 div.sk-item::before, #sk-container-id-2 div.sk-parallel-item::before {content: \"\";position: absolute;border-left: 1px solid gray;box-sizing: border-box;top: 0;bottom: 0;left: 50%;z-index: -1;}#sk-container-id-2 div.sk-parallel-item {display: flex;flex-direction: column;z-index: 1;position: relative;background-color: white;}#sk-container-id-2 div.sk-parallel-item:first-child::after {align-self: flex-end;width: 50%;}#sk-container-id-2 div.sk-parallel-item:last-child::after {align-self: flex-start;width: 50%;}#sk-container-id-2 div.sk-parallel-item:only-child::after {width: 0;}#sk-container-id-2 div.sk-dashed-wrapped {border: 1px dashed gray;margin: 0 0.4em 0.5em 0.4em;box-sizing: border-box;padding-bottom: 0.4em;background-color: white;}#sk-container-id-2 div.sk-label label {font-family: monospace;font-weight: bold;display: inline-block;line-height: 1.2em;}#sk-container-id-2 div.sk-label-container {text-align: center;}#sk-container-id-2 div.sk-container {/* jupyter's `normalize.less` sets `[hidden] { display: none; }` but bootstrap.min.css set `[hidden] { display: none !important; }` so we also need the `!important` here to be able to override the default hidden behavior on the sphinx rendered scikit-learn.org. See: https://github.com/scikit-learn/scikit-learn/issues/21755 */display: inline-block !important;position: relative;}#sk-container-id-2 div.sk-text-repr-fallback {display: none;}</style><div id=\"sk-container-id-2\" class=\"sk-top-container\"><div class=\"sk-text-repr-fallback\"><pre>LinearRegression()</pre><b>In a Jupyter environment, please rerun this cell to show the HTML representation or trust the notebook. <br />On GitHub, the HTML representation is unable to render, please try loading this page with nbviewer.org.</b></div><div class=\"sk-container\" hidden><div class=\"sk-item\"><div class=\"sk-estimator sk-toggleable\"><input class=\"sk-toggleable__control sk-hidden--visually\" id=\"sk-estimator-id-2\" type=\"checkbox\" checked><label for=\"sk-estimator-id-2\" class=\"sk-toggleable__label sk-toggleable__label-arrow\">LinearRegression</label><div class=\"sk-toggleable__content\"><pre>LinearRegression()</pre></div></div></div></div></div>"
      ],
      "text/plain": [
       "LinearRegression()"
      ]
     },
     "execution_count": 37,
     "metadata": {},
     "output_type": "execute_result"
    }
   ],
   "source": [
    "# Fit the regression model on the new training data\n",
    "regression.fit(X_experience2_train, y_salary2_train)"
   ]
  },
  {
   "cell_type": "code",
   "execution_count": 38,
   "id": "47c189b2",
   "metadata": {
    "scrolled": true
   },
   "outputs": [],
   "source": [
    "# Predict the values of y using X.\n",
    "\n",
    "y_predicted_experience2 = regression.predict(X_experience2_test)"
   ]
  },
  {
   "cell_type": "markdown",
   "id": "e4b72422",
   "metadata": {},
   "source": [
    "## Regression Analysis for Experience Level and Salary (without the extreme values)"
   ]
  },
  {
   "cell_type": "code",
   "execution_count": 39,
   "id": "f04866aa",
   "metadata": {
    "scrolled": true
   },
   "outputs": [
    {
     "data": {
      "image/png": "[encoded data removed]",
      "text/plain": [
       "<Figure size 640x480 with 1 Axes>"
      ]
     },
     "metadata": {},
     "output_type": "display_data"
    }
   ],
   "source": [
    "# Create a plot that shows the regression line from the model on the test set.\n",
    "plot_test = plt\n",
    "plot_test.scatter(X_experience2_test, y_salary2_test, color='gray', s=15, label='Test data')\n",
    "\n",
    "# Plot the regression line based on the test set predictions\n",
    "plot_test.plot(X_experience2_test, y_predicted_experience2, color='red', linewidth=3, label='Regression line')\n",
    "\n",
    "# Add labels and title\n",
    "plot_test.title('Experience Level vs Salary (Test set)')\n",
    "plot_test.xlabel('experience_level_encoded')\n",
    "plot_test.ylabel('salary_in_usd')\n",
    "plot_test.legend()\n",
    "\n",
    "# Display the plot\n",
    "plot_test.show()"
   ]
  },
  {
   "cell_type": "code",
   "execution_count": 40,
   "id": "faf06a0c",
   "metadata": {
    "scrolled": true
   },
   "outputs": [],
   "source": [
    "# Calculate Mean Squared Error (MSE) and Root Mean Squared Error (RMSE)\n",
    "mse = mean_squared_error(y_salary2_test, y_predicted_experience2)\n",
    "rmse = np.sqrt(mse)  # Root Mean Squared Error\n",
    "\n",
    "# Calculate R² score\n",
    "r2 = r2_score(y_salary2_test, y_predicted_experience2)"
   ]
  },
  {
   "cell_type": "code",
   "execution_count": 41,
   "id": "4bf2db33",
   "metadata": {
    "scrolled": true
   },
   "outputs": [
    {
     "name": "stdout",
     "output_type": "stream",
     "text": [
      "Slope (Coefficient): [[28923.41724431]]\n",
      "Root Mean Squared Error (RMSE): 52219.930414599716\n",
      "R² Score: 0.12352778577123436\n"
     ]
    }
   ],
   "source": [
    "# Print the model summary statistics. This is where you evaluate the performance of the model.\n",
    "print('Slope (Coefficient):', regression.coef_)\n",
    "print('Root Mean Squared Error (RMSE):', rmse)\n",
    "print('R² Score:', r2)"
   ]
  },
  {
   "cell_type": "markdown",
   "id": "a571ba74",
   "metadata": {},
   "source": []
  },
  {
   "cell_type": "code",
   "execution_count": 42,
   "id": "8ec5642f",
   "metadata": {
    "scrolled": true
   },
   "outputs": [
    {
     "data": {
      "text/html": [
       "<div>\n",
       "<style scoped>\n",
       "    .dataframe tbody tr th:only-of-type {\n",
       "        vertical-align: middle;\n",
       "    }\n",
       "\n",
       "    .dataframe tbody tr th {\n",
       "        vertical-align: top;\n",
       "    }\n",
       "\n",
       "    .dataframe thead th {\n",
       "        text-align: right;\n",
       "    }\n",
       "</style>\n",
       "<table border=\"1\" class=\"dataframe\">\n",
       "  <thead>\n",
       "    <tr style=\"text-align: right;\">\n",
       "      <th></th>\n",
       "      <th>Actual</th>\n",
       "      <th>Predicted</th>\n",
       "    </tr>\n",
       "  </thead>\n",
       "  <tbody>\n",
       "    <tr>\n",
       "      <th>0</th>\n",
       "      <td>224000</td>\n",
       "      <td>161961.377177</td>\n",
       "    </tr>\n",
       "    <tr>\n",
       "      <th>1</th>\n",
       "      <td>130000</td>\n",
       "      <td>161961.377177</td>\n",
       "    </tr>\n",
       "    <tr>\n",
       "      <th>2</th>\n",
       "      <td>117000</td>\n",
       "      <td>133037.959933</td>\n",
       "    </tr>\n",
       "    <tr>\n",
       "      <th>3</th>\n",
       "      <td>50000</td>\n",
       "      <td>161961.377177</td>\n",
       "    </tr>\n",
       "    <tr>\n",
       "      <th>4</th>\n",
       "      <td>210550</td>\n",
       "      <td>161961.377177</td>\n",
       "    </tr>\n",
       "    <tr>\n",
       "      <th>5</th>\n",
       "      <td>149076</td>\n",
       "      <td>161961.377177</td>\n",
       "    </tr>\n",
       "    <tr>\n",
       "      <th>6</th>\n",
       "      <td>166400</td>\n",
       "      <td>161961.377177</td>\n",
       "    </tr>\n",
       "    <tr>\n",
       "      <th>7</th>\n",
       "      <td>120000</td>\n",
       "      <td>133037.959933</td>\n",
       "    </tr>\n",
       "    <tr>\n",
       "      <th>8</th>\n",
       "      <td>128000</td>\n",
       "      <td>133037.959933</td>\n",
       "    </tr>\n",
       "    <tr>\n",
       "      <th>9</th>\n",
       "      <td>94625</td>\n",
       "      <td>133037.959933</td>\n",
       "    </tr>\n",
       "    <tr>\n",
       "      <th>10</th>\n",
       "      <td>150000</td>\n",
       "      <td>133037.959933</td>\n",
       "    </tr>\n",
       "    <tr>\n",
       "      <th>11</th>\n",
       "      <td>235000</td>\n",
       "      <td>161961.377177</td>\n",
       "    </tr>\n",
       "    <tr>\n",
       "      <th>12</th>\n",
       "      <td>166000</td>\n",
       "      <td>104114.542688</td>\n",
       "    </tr>\n",
       "    <tr>\n",
       "      <th>13</th>\n",
       "      <td>114700</td>\n",
       "      <td>161961.377177</td>\n",
       "    </tr>\n",
       "    <tr>\n",
       "      <th>14</th>\n",
       "      <td>219100</td>\n",
       "      <td>161961.377177</td>\n",
       "    </tr>\n",
       "    <tr>\n",
       "      <th>15</th>\n",
       "      <td>119000</td>\n",
       "      <td>161961.377177</td>\n",
       "    </tr>\n",
       "    <tr>\n",
       "      <th>16</th>\n",
       "      <td>213600</td>\n",
       "      <td>161961.377177</td>\n",
       "    </tr>\n",
       "    <tr>\n",
       "      <th>17</th>\n",
       "      <td>130000</td>\n",
       "      <td>161961.377177</td>\n",
       "    </tr>\n",
       "    <tr>\n",
       "      <th>18</th>\n",
       "      <td>45864</td>\n",
       "      <td>104114.542688</td>\n",
       "    </tr>\n",
       "    <tr>\n",
       "      <th>19</th>\n",
       "      <td>154100</td>\n",
       "      <td>161961.377177</td>\n",
       "    </tr>\n",
       "    <tr>\n",
       "      <th>20</th>\n",
       "      <td>218213</td>\n",
       "      <td>161961.377177</td>\n",
       "    </tr>\n",
       "    <tr>\n",
       "      <th>21</th>\n",
       "      <td>48000</td>\n",
       "      <td>104114.542688</td>\n",
       "    </tr>\n",
       "    <tr>\n",
       "      <th>22</th>\n",
       "      <td>138900</td>\n",
       "      <td>161961.377177</td>\n",
       "    </tr>\n",
       "    <tr>\n",
       "      <th>23</th>\n",
       "      <td>101098</td>\n",
       "      <td>133037.959933</td>\n",
       "    </tr>\n",
       "    <tr>\n",
       "      <th>24</th>\n",
       "      <td>192300</td>\n",
       "      <td>161961.377177</td>\n",
       "    </tr>\n",
       "    <tr>\n",
       "      <th>25</th>\n",
       "      <td>140000</td>\n",
       "      <td>133037.959933</td>\n",
       "    </tr>\n",
       "    <tr>\n",
       "      <th>26</th>\n",
       "      <td>230000</td>\n",
       "      <td>161961.377177</td>\n",
       "    </tr>\n",
       "    <tr>\n",
       "      <th>27</th>\n",
       "      <td>153600</td>\n",
       "      <td>161961.377177</td>\n",
       "    </tr>\n",
       "    <tr>\n",
       "      <th>28</th>\n",
       "      <td>123600</td>\n",
       "      <td>161961.377177</td>\n",
       "    </tr>\n",
       "    <tr>\n",
       "      <th>29</th>\n",
       "      <td>105000</td>\n",
       "      <td>161961.377177</td>\n",
       "    </tr>\n",
       "  </tbody>\n",
       "</table>\n",
       "</div>"
      ],
      "text/plain": [
       "    Actual      Predicted\n",
       "0   224000  161961.377177\n",
       "1   130000  161961.377177\n",
       "2   117000  133037.959933\n",
       "3    50000  161961.377177\n",
       "4   210550  161961.377177\n",
       "5   149076  161961.377177\n",
       "6   166400  161961.377177\n",
       "7   120000  133037.959933\n",
       "8   128000  133037.959933\n",
       "9    94625  133037.959933\n",
       "10  150000  133037.959933\n",
       "11  235000  161961.377177\n",
       "12  166000  104114.542688\n",
       "13  114700  161961.377177\n",
       "14  219100  161961.377177\n",
       "15  119000  161961.377177\n",
       "16  213600  161961.377177\n",
       "17  130000  161961.377177\n",
       "18   45864  104114.542688\n",
       "19  154100  161961.377177\n",
       "20  218213  161961.377177\n",
       "21   48000  104114.542688\n",
       "22  138900  161961.377177\n",
       "23  101098  133037.959933\n",
       "24  192300  161961.377177\n",
       "25  140000  133037.959933\n",
       "26  230000  161961.377177\n",
       "27  153600  161961.377177\n",
       "28  123600  161961.377177\n",
       "29  105000  161961.377177"
      ]
     },
     "execution_count": 42,
     "metadata": {},
     "output_type": "execute_result"
    }
   ],
   "source": [
    "# Create a DataFrame to compare the actual and predicted values\n",
    "data_compare_experience = pd.DataFrame({\n",
    "    'Actual': y_salary2_test.flatten(),   # Actual values (flatten if needed)\n",
    "    'Predicted': y_predicted_experience2.flatten()  # Predicted values (flatten if needed)\n",
    "})\n",
    "\n",
    "# Display the first 30 rows of the comparison\n",
    "data_compare_experience.head(30)"
   ]
  },
  {
   "cell_type": "markdown",
   "id": "bb2f1476",
   "metadata": {},
   "source": []
  },
  {
   "cell_type": "markdown",
   "id": "ce52e866",
   "metadata": {},
   "source": [
    "After removing the outliers, the model still did not show a significant improvement. The slope shows that higher experience levels are associated with higher salaries, with an increase of around $29,000 for each level up. The RMSE indicates a significant error in salary predictions, suggesting the model is not very precise. The R² score shows that experience level alone doesn't explain much of the salary variation, meaning additional factors need to be considered for a more accurate model."
   ]
  },
  {
   "cell_type": "markdown",
   "id": "592fa88f",
   "metadata": {},
   "source": [
    "# 6. Exporting dataframes"
   ]
  },
  {
   "cell_type": "code",
   "execution_count": 43,
   "id": "d40b2170",
   "metadata": {},
   "outputs": [],
   "source": [
    "#Export the new dataframes\n",
    "usa_ft_subset.to_csv('/Users/buketoztekin/Documents/usa_ft_subset.csv', index=False)\n",
    "usa_ft_subset_filtered.to_csv('/Users/buketoztekin/Documents/usa_ft_subset_filtered.csv', index=False)"
   ]
  },
  {
   "cell_type": "code",
   "execution_count": null,
   "id": "a872b8a4",
   "metadata": {},
   "outputs": [],
   "source": []
  }
 ],
 "metadata": {
  "kernelspec": {
   "display_name": "Python 3 (ipykernel)",
   "language": "python",
   "name": "python3"
  },
  "language_info": {
   "codemirror_mode": {
    "name": "ipython",
    "version": 3
   },
   "file_extension": ".py",
   "mimetype": "text/x-python",
   "name": "python",
   "nbconvert_exporter": "python",
   "pygments_lexer": "ipython3",
   "version": "3.11.7"
  }
 },
 "nbformat": 4,
 "nbformat_minor": 5
}
